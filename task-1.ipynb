# BankAccount Class Definition
class BankAccount:
    def __init__(self):
        self.balance = 0.0
        self.is_open = False
        self.overdraft_allowed = False

    def open_account(self):
        if not self.is_open:
            self.is_open = True
            print("Account opened.")
        else:
            print("Account is already open.")

    def deposit(self, amount):
        if self.is_open:
            self.balance += amount
            print(f"Deposited {amount}. Current balance: {self.balance}.")
        else:
            print("Account is closed. Cannot deposit.")

    def withdraw(self, amount):
        if not self.is_open:
            print("Account is closed. Cannot withdraw.")
        elif self.balance <= 0 and not self.overdraft_allowed:
            print(f"Cannot withdraw. Balance is {self.balance}.")
        elif self.balance < amount and not self.overdraft_allowed:
            print("Insufficient funds. Overdraft not allowed.")
        else:
            self.balance -= amount
            print(f"Withdrew {amount}. Current balance: {self.balance}.")
            if self.balance < 0:
                self.overdraft_allowed = False  # Disable further overdrafts

    def close_account(self):
        if self.is_open:
            if self.balance >= 0:
                self.is_open = False
                print("Account closed successfully.")
            else:
                print(f"Cannot close account with negative balance: {self.balance}.")
        else:
            print("Account is already closed.")

    def is_account_open(self):
        return self.is_open and self.balance >= 0

# Testing the BankAccount class in Google Colab

# Creating an instance of BankAccount
account = BankAccount()

# Opening the account
account.open_account()

# Depositing funds
account.deposit(500)

# Trying to withdraw funds with positive balance
account.withdraw(200)

# Withdrawing beyond the balance (testing overdraft behavior)
account.withdraw(400)

# Trying to withdraw when overdraft is not allowed
account.withdraw(100)

# Closing the account
account.close_account()

# Re-opening the account and depositing funds
account.open_account()
account.deposit(200)

print("Is account open and positive balance?", account.is_account_open())

# Closing the account with a positive balance
account.close_account()
